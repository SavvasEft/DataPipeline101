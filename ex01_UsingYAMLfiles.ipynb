{
 "cells": [
  {
   "attachments": {},
   "cell_type": "markdown",
   "metadata": {},
   "source": [
    "# Define a way for a pipeline to be executed\n",
    "\n",
    "- Need a way to define a set of instructions that would apply different functions. In this Example, all functions would come from a class 'MathOperators'. \n",
    "- The instructions are set inside a .yaml file, called pipeline.yaml. This file can be created in different ways, and edited using a text editor, here it is created using Python.\n",
    "\n",
    "## Why use a .yaml file?\n",
    "\n",
    "- Human-readable format: YAML is designed to be easily readable by humans, with a simple syntax and minimal punctuation. This makes it easy for developers, data engineers, and other stakeholders to understand and review the pipeline structure and flow at a glance.\n",
    "\n",
    "- Separation of concerns: By describing the pipeline in a YAML file, you can separate the pipeline's structure and flow from the implementation details of the pipeline's steps. This allows you to modify the pipeline structure without changing the underlying code, promoting modularity and maintainability.\n",
    "\n",
    "- Easier collaboration: Since the pipeline is described in a separate YAML file, multiple team members can work on different parts of the project simultaneously. For example, one team member can work on the pipeline's steps while another team member modifies the pipeline's structure in the YAML file.\n",
    "\n",
    "- Flexibility and reusability: A YAML-based pipeline description can be easily reused or adapted for different projects or use cases. By changing the YAML file, you can create new pipelines or modify existing ones without rewriting the entire codebase.\n",
    "\n",
    "- Easy integration with external tools: Many data processing tools and frameworks support YAML configuration files out of the box. By using a YAML file to describe your pipeline, you can easily integrate your pipeline with other tools and systems that work with YAML, such as workflow management systems (e.g., Apache Airflow) or infrastructure-as-code tools (e.g., Ansible).\n",
    "\n",
    "- Cross-language compatibility: YAML is a language-independent data serialization format, so it can be used with a variety of programming languages. This makes it easier to use the same pipeline description across different languages or platforms, reducing the need for language-specific pipeline configurations."
   ]
  },
  {
   "cell_type": "code",
   "execution_count": 1,
   "metadata": {},
   "outputs": [
    {
     "name": "stdout",
     "output_type": "stream",
     "text": [
      "5 + 3 = 8\n",
      "5 - 3 = 2\n",
      "5 + 3 = 8\n",
      "5 - 3 = 2\n",
      "5 * 3 = 15\n"
     ]
    }
   ],
   "source": [
    "import yaml\n",
    "\n",
    "# Define a class:\n",
    "class MathOperators:\n",
    "    def add(self, x, y):\n",
    "        return x + y\n",
    "\n",
    "    def subtract(self, x, y):\n",
    "        return x - y\n",
    "\n",
    "    def multiply(self, x, y):\n",
    "        return x * y\n",
    "    \n",
    "    \n",
    "    \n",
    "# Define the pipeline structure using a Python dictionary\n",
    "pipeline_structure = {\n",
    "    'pipeline': [\n",
    "        'add',\n",
    "        'subtract',\n",
    "        'add',\n",
    "        'subtract',\n",
    "        'multiply'\n",
    "    ]\n",
    "}\n",
    "\n",
    "\n",
    "\n",
    "# Write structure to a YAML file for easier manipulation... and all the above\n",
    "with open('ex01_pipeline.yaml', 'w') as file:\n",
    "    yaml.dump(pipeline_structure, file, default_flow_style=False)\n",
    "\n",
    "\n",
    "\n",
    "# Define a function that would read the YAML file, to read the pipeline eventually    \n",
    "def read_yaml_file(file_path):\n",
    "    with open(file_path, 'r') as file:\n",
    "        return yaml.safe_load(file)\n",
    "    \n",
    "\n",
    "###\n",
    "# Example 1: calling functions independently\n",
    "###   \n",
    "# Define a main function, main() that would read the yaml pipeline and execute it:\n",
    "def main():\n",
    "    # Read the pipeline from the YAML file\n",
    "    pipeline_yaml = read_yaml_file('ex01_pipeline.yaml')\n",
    "    pipeline = pipeline_yaml['pipeline']\n",
    "\n",
    "    # Initialize the MathOperators class\n",
    "    operators = MathOperators()\n",
    "\n",
    "    # Sample input values\n",
    "    x, y = 5, 3\n",
    "\n",
    "    # Follow the pipeline and execute the corresponding operations\n",
    "    for operation in pipeline:\n",
    "        if operation == 'add':\n",
    "            result = operators.add(x, y)\n",
    "            print(f\"{x} + {y} = {result}\")\n",
    "        elif operation == 'subtract':\n",
    "            result = operators.subtract(x, y)\n",
    "            print(f\"{x} - {y} = {result}\")\n",
    "        elif operation == 'multiply':\n",
    "            result = operators.multiply(x, y)\n",
    "            print(f\"{x} * {y} = {result}\")\n",
    "\n",
    "#Call main function... if it is executed directly, as a main module (only if __name__ == '__main__').\n",
    "#If it is imported as a module in another script (__name__ == (name of script)), then don't execute \n",
    "if __name__ == '__main__':\n",
    "    main()"
   ]
  },
  {
   "cell_type": "code",
   "execution_count": 2,
   "metadata": {},
   "outputs": [],
   "source": [
    "#########################"
   ]
  },
  {
   "cell_type": "code",
   "execution_count": 3,
   "metadata": {},
   "outputs": [
    {
     "name": "stdout",
     "output_type": "stream",
     "text": [
      "7 + 3 = 10\n",
      "10 - 3 = 7\n",
      "7 + 3 = 10\n",
      "10 - 3 = 7\n",
      "7 * 3 = 21\n"
     ]
    }
   ],
   "source": [
    "###\n",
    "# Example 2: setting output of function as an ipnut in next function in pipeline\n",
    "###   \n",
    "\n",
    "# def main() that would read the yaml pipeline and execute it:\n",
    "def main(x,y):\n",
    "    # Read the pipeline from the YAML file\n",
    "    pipeline_yaml = read_yaml_file('ex01_pipeline.yaml')\n",
    "    pipeline = pipeline_yaml['pipeline']\n",
    "\n",
    "    # Initialize the MathOperators class\n",
    "    operators = MathOperators()\n",
    "\n",
    "    # Sample input values\n",
    "    #x, y = 5, 3\n",
    "\n",
    "    # Follow the pipeline and execute the corresponding operations\n",
    "    for operation in pipeline:\n",
    "        if operation == 'add':\n",
    "            result = operators.add(x, y)\n",
    "            print(f\"{x} + {y} = {result}\")\n",
    "        elif operation == 'subtract':\n",
    "            result = operators.subtract(x, y)\n",
    "            print(f\"{x} - {y} = {result}\")\n",
    "        elif operation == 'multiply':\n",
    "            result = operators.multiply(x, y)\n",
    "            print(f\"{x} * {y} = {result}\")\n",
    "            \n",
    "        #update value with result \n",
    "        x = result\n",
    "\n",
    "if __name__ == '__main__':\n",
    "    main(7,3)"
   ]
  }
 ],
 "metadata": {
  "kernelspec": {
   "display_name": "Python 3",
   "language": "python",
   "name": "python3"
  },
  "language_info": {
   "codemirror_mode": {
    "name": "ipython",
    "version": 3
   },
   "file_extension": ".py",
   "mimetype": "text/x-python",
   "name": "python",
   "nbconvert_exporter": "python",
   "pygments_lexer": "ipython3",
   "version": "3.9.6"
  },
  "orig_nbformat": 4
 },
 "nbformat": 4,
 "nbformat_minor": 2
}
